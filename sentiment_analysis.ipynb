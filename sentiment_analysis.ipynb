{
 "cells": [
  {
   "cell_type": "code",
   "execution_count": 1,
   "metadata": {},
   "outputs": [],
   "source": [
    "# Importing the libraries\n",
    "import numpy as np\n",
    "import pandas as pd\n",
    "import matplotlib.pyplot as plt\n",
    "import seaborn as sns\n",
    "%matplotlib inline"
   ]
  },
  {
   "cell_type": "code",
   "execution_count": 2,
   "metadata": {},
   "outputs": [],
   "source": [
    "# Importing the dataset\n",
    "dataset = pd.read_csv('IMDB_dataset.csv')"
   ]
  },
  {
   "cell_type": "code",
   "execution_count": 3,
   "metadata": {},
   "outputs": [
    {
     "name": "stdout",
     "output_type": "stream",
     "text": [
      "(50000, 2)\n"
     ]
    }
   ],
   "source": [
    "#prints the length of the dataset\n",
    "print(dataset.shape)"
   ]
  },
  {
   "cell_type": "code",
   "execution_count": 4,
   "metadata": {},
   "outputs": [
    {
     "data": {
      "text/html": [
       "<div>\n",
       "<style scoped>\n",
       "    .dataframe tbody tr th:only-of-type {\n",
       "        vertical-align: middle;\n",
       "    }\n",
       "\n",
       "    .dataframe tbody tr th {\n",
       "        vertical-align: top;\n",
       "    }\n",
       "\n",
       "    .dataframe thead th {\n",
       "        text-align: right;\n",
       "    }\n",
       "</style>\n",
       "<table border=\"1\" class=\"dataframe\">\n",
       "  <thead>\n",
       "    <tr style=\"text-align: right;\">\n",
       "      <th></th>\n",
       "      <th>review</th>\n",
       "      <th>sentiment</th>\n",
       "    </tr>\n",
       "  </thead>\n",
       "  <tbody>\n",
       "    <tr>\n",
       "      <th>0</th>\n",
       "      <td>One of the other reviewers has mentioned that ...</td>\n",
       "      <td>positive</td>\n",
       "    </tr>\n",
       "    <tr>\n",
       "      <th>1</th>\n",
       "      <td>A wonderful little production. &lt;br /&gt;&lt;br /&gt;The...</td>\n",
       "      <td>positive</td>\n",
       "    </tr>\n",
       "    <tr>\n",
       "      <th>2</th>\n",
       "      <td>I thought this was a wonderful way to spend ti...</td>\n",
       "      <td>positive</td>\n",
       "    </tr>\n",
       "    <tr>\n",
       "      <th>3</th>\n",
       "      <td>Basically there's a family where a little boy ...</td>\n",
       "      <td>negative</td>\n",
       "    </tr>\n",
       "    <tr>\n",
       "      <th>4</th>\n",
       "      <td>Petter Mattei's \"Love in the Time of Money\" is...</td>\n",
       "      <td>positive</td>\n",
       "    </tr>\n",
       "  </tbody>\n",
       "</table>\n",
       "</div>"
      ],
      "text/plain": [
       "                                              review sentiment\n",
       "0  One of the other reviewers has mentioned that ...  positive\n",
       "1  A wonderful little production. <br /><br />The...  positive\n",
       "2  I thought this was a wonderful way to spend ti...  positive\n",
       "3  Basically there's a family where a little boy ...  negative\n",
       "4  Petter Mattei's \"Love in the Time of Money\" is...  positive"
      ]
     },
     "execution_count": 4,
     "metadata": {},
     "output_type": "execute_result"
    }
   ],
   "source": [
    "#it prints top 5 rows of the dataset\n",
    "dataset.head()  "
   ]
  },
  {
   "cell_type": "code",
   "execution_count": 5,
   "metadata": {},
   "outputs": [
    {
     "data": {
      "text/html": [
       "<div>\n",
       "<style scoped>\n",
       "    .dataframe tbody tr th:only-of-type {\n",
       "        vertical-align: middle;\n",
       "    }\n",
       "\n",
       "    .dataframe tbody tr th {\n",
       "        vertical-align: top;\n",
       "    }\n",
       "\n",
       "    .dataframe thead th {\n",
       "        text-align: right;\n",
       "    }\n",
       "</style>\n",
       "<table border=\"1\" class=\"dataframe\">\n",
       "  <thead>\n",
       "    <tr style=\"text-align: right;\">\n",
       "      <th></th>\n",
       "      <th>review</th>\n",
       "      <th>sentiment</th>\n",
       "    </tr>\n",
       "  </thead>\n",
       "  <tbody>\n",
       "    <tr>\n",
       "      <th>count</th>\n",
       "      <td>50000</td>\n",
       "      <td>50000</td>\n",
       "    </tr>\n",
       "    <tr>\n",
       "      <th>unique</th>\n",
       "      <td>49582</td>\n",
       "      <td>2</td>\n",
       "    </tr>\n",
       "    <tr>\n",
       "      <th>top</th>\n",
       "      <td>Loved today's show!!! It was a variety and not...</td>\n",
       "      <td>negative</td>\n",
       "    </tr>\n",
       "    <tr>\n",
       "      <th>freq</th>\n",
       "      <td>5</td>\n",
       "      <td>25000</td>\n",
       "    </tr>\n",
       "  </tbody>\n",
       "</table>\n",
       "</div>"
      ],
      "text/plain": [
       "                                                   review sentiment\n",
       "count                                               50000     50000\n",
       "unique                                              49582         2\n",
       "top     Loved today's show!!! It was a variety and not...  negative\n",
       "freq                                                    5     25000"
      ]
     },
     "execution_count": 5,
     "metadata": {},
     "output_type": "execute_result"
    }
   ],
   "source": [
    "#describes the dataset \n",
    "dataset.describe()"
   ]
  },
  {
   "cell_type": "code",
   "execution_count": 6,
   "metadata": {},
   "outputs": [],
   "source": [
    "dataset=dataset.iloc[0:5000,:]"
   ]
  },
  {
   "cell_type": "code",
   "execution_count": 7,
   "metadata": {},
   "outputs": [
    {
     "data": {
      "text/html": [
       "<div>\n",
       "<style scoped>\n",
       "    .dataframe tbody tr th:only-of-type {\n",
       "        vertical-align: middle;\n",
       "    }\n",
       "\n",
       "    .dataframe tbody tr th {\n",
       "        vertical-align: top;\n",
       "    }\n",
       "\n",
       "    .dataframe thead th {\n",
       "        text-align: right;\n",
       "    }\n",
       "</style>\n",
       "<table border=\"1\" class=\"dataframe\">\n",
       "  <thead>\n",
       "    <tr style=\"text-align: right;\">\n",
       "      <th></th>\n",
       "      <th>review</th>\n",
       "    </tr>\n",
       "    <tr>\n",
       "      <th>sentiment</th>\n",
       "      <th></th>\n",
       "    </tr>\n",
       "  </thead>\n",
       "  <tbody>\n",
       "    <tr>\n",
       "      <th>negative</th>\n",
       "      <td>2532</td>\n",
       "    </tr>\n",
       "    <tr>\n",
       "      <th>positive</th>\n",
       "      <td>2468</td>\n",
       "    </tr>\n",
       "  </tbody>\n",
       "</table>\n",
       "</div>"
      ],
      "text/plain": [
       "           review\n",
       "sentiment        \n",
       "negative     2532\n",
       "positive     2468"
      ]
     },
     "execution_count": 7,
     "metadata": {},
     "output_type": "execute_result"
    }
   ],
   "source": [
    "#describes the dataset by making groups as per rating \n",
    "dataset.groupby('sentiment').count()"
   ]
  },
  {
   "cell_type": "code",
   "execution_count": 8,
   "metadata": {},
   "outputs": [
    {
     "data": {
      "text/plain": [
       "False"
      ]
     },
     "execution_count": 8,
     "metadata": {},
     "output_type": "execute_result"
    }
   ],
   "source": [
    "# checking if there is any null data or not\n",
    "dataset.isnull().any().any()"
   ]
  },
  {
   "cell_type": "code",
   "execution_count": 9,
   "metadata": {},
   "outputs": [
    {
     "data": {
      "text/html": [
       "<div>\n",
       "<style scoped>\n",
       "    .dataframe tbody tr th:only-of-type {\n",
       "        vertical-align: middle;\n",
       "    }\n",
       "\n",
       "    .dataframe tbody tr th {\n",
       "        vertical-align: top;\n",
       "    }\n",
       "\n",
       "    .dataframe thead th {\n",
       "        text-align: right;\n",
       "    }\n",
       "</style>\n",
       "<table border=\"1\" class=\"dataframe\">\n",
       "  <thead>\n",
       "    <tr style=\"text-align: right;\">\n",
       "      <th></th>\n",
       "      <th>review</th>\n",
       "      <th>sentiment</th>\n",
       "      <th>length</th>\n",
       "    </tr>\n",
       "  </thead>\n",
       "  <tbody>\n",
       "    <tr>\n",
       "      <th>0</th>\n",
       "      <td>One of the other reviewers has mentioned that ...</td>\n",
       "      <td>positive</td>\n",
       "      <td>1761</td>\n",
       "    </tr>\n",
       "    <tr>\n",
       "      <th>1</th>\n",
       "      <td>A wonderful little production. &lt;br /&gt;&lt;br /&gt;The...</td>\n",
       "      <td>positive</td>\n",
       "      <td>998</td>\n",
       "    </tr>\n",
       "    <tr>\n",
       "      <th>2</th>\n",
       "      <td>I thought this was a wonderful way to spend ti...</td>\n",
       "      <td>positive</td>\n",
       "      <td>926</td>\n",
       "    </tr>\n",
       "    <tr>\n",
       "      <th>3</th>\n",
       "      <td>Basically there's a family where a little boy ...</td>\n",
       "      <td>negative</td>\n",
       "      <td>748</td>\n",
       "    </tr>\n",
       "    <tr>\n",
       "      <th>4</th>\n",
       "      <td>Petter Mattei's \"Love in the Time of Money\" is...</td>\n",
       "      <td>positive</td>\n",
       "      <td>1317</td>\n",
       "    </tr>\n",
       "  </tbody>\n",
       "</table>\n",
       "</div>"
      ],
      "text/plain": [
       "                                              review sentiment  length\n",
       "0  One of the other reviewers has mentioned that ...  positive    1761\n",
       "1  A wonderful little production. <br /><br />The...  positive     998\n",
       "2  I thought this was a wonderful way to spend ti...  positive     926\n",
       "3  Basically there's a family where a little boy ...  negative     748\n",
       "4  Petter Mattei's \"Love in the Time of Money\" is...  positive    1317"
      ]
     },
     "execution_count": 9,
     "metadata": {},
     "output_type": "execute_result"
    }
   ],
   "source": [
    "#Making a new column to detect how long the text messages are:\n",
    "dataset['length'] = dataset['review'].apply(len)\n",
    "dataset.head()"
   ]
  },
  {
   "cell_type": "code",
   "execution_count": 10,
   "metadata": {},
   "outputs": [
    {
     "data": {
      "text/plain": [
       "<AxesSubplot:ylabel='Frequency'>"
      ]
     },
     "execution_count": 10,
     "metadata": {},
     "output_type": "execute_result"
    },
    {
     "data": {
      "image/png": "[encoded data removed]",
      "text/plain": [
       "<Figure size 432x288 with 1 Axes>"
      ]
     },
     "metadata": {
      "needs_background": "light"
     },
     "output_type": "display_data"
    }
   ],
   "source": [
    "#graph to represent the frequency of data with the given length in the dataset \n",
    "dataset['length'].plot(bins=50, kind='hist')"
   ]
  },
  {
   "cell_type": "code",
   "execution_count": 11,
   "metadata": {},
   "outputs": [
    {
     "data": {
      "text/plain": [
       "count    5000.000000\n",
       "mean     1310.303200\n",
       "std       984.782125\n",
       "min        80.000000\n",
       "25%       698.750000\n",
       "50%       965.000000\n",
       "75%      1616.250000\n",
       "max      9951.000000\n",
       "Name: length, dtype: float64"
      ]
     },
     "execution_count": 11,
     "metadata": {},
     "output_type": "execute_result"
    }
   ],
   "source": [
    "#desribes the length column of the dataset \n",
    "dataset.length.describe()"
   ]
  },
  {
   "cell_type": "code",
   "execution_count": 12,
   "metadata": {},
   "outputs": [],
   "source": [
    "# Importing the dataset\n",
    "data = pd.read_csv('IMDB_dataset.csv')"
   ]
  },
  {
   "cell_type": "code",
   "execution_count": 13,
   "metadata": {},
   "outputs": [
    {
     "data": {
      "text/plain": [
       "(50000, 2)"
      ]
     },
     "execution_count": 13,
     "metadata": {},
     "output_type": "execute_result"
    }
   ],
   "source": [
    "data.shape"
   ]
  },
  {
   "cell_type": "code",
   "execution_count": 14,
   "metadata": {},
   "outputs": [],
   "source": [
    "data=data.iloc[0:5000,:]"
   ]
  },
  {
   "cell_type": "code",
   "execution_count": 15,
   "metadata": {},
   "outputs": [
    {
     "data": {
      "text/html": [
       "<div>\n",
       "<style scoped>\n",
       "    .dataframe tbody tr th:only-of-type {\n",
       "        vertical-align: middle;\n",
       "    }\n",
       "\n",
       "    .dataframe tbody tr th {\n",
       "        vertical-align: top;\n",
       "    }\n",
       "\n",
       "    .dataframe thead th {\n",
       "        text-align: right;\n",
       "    }\n",
       "</style>\n",
       "<table border=\"1\" class=\"dataframe\">\n",
       "  <thead>\n",
       "    <tr style=\"text-align: right;\">\n",
       "      <th></th>\n",
       "      <th>review</th>\n",
       "      <th>length</th>\n",
       "    </tr>\n",
       "    <tr>\n",
       "      <th>sentiment</th>\n",
       "      <th></th>\n",
       "      <th></th>\n",
       "    </tr>\n",
       "  </thead>\n",
       "  <tbody>\n",
       "    <tr>\n",
       "      <th>negative</th>\n",
       "      <td>2532</td>\n",
       "      <td>2532</td>\n",
       "    </tr>\n",
       "    <tr>\n",
       "      <th>positive</th>\n",
       "      <td>2468</td>\n",
       "      <td>2468</td>\n",
       "    </tr>\n",
       "  </tbody>\n",
       "</table>\n",
       "</div>"
      ],
      "text/plain": [
       "           review  length\n",
       "sentiment                \n",
       "negative     2532    2532\n",
       "positive     2468    2468"
      ]
     },
     "execution_count": 15,
     "metadata": {},
     "output_type": "execute_result"
    }
   ],
   "source": [
    "#describes the dataset by making groups as per rating \n",
    "dataset.groupby('sentiment').count()"
   ]
  },
  {
   "cell_type": "code",
   "execution_count": 16,
   "metadata": {},
   "outputs": [
    {
     "name": "stderr",
     "output_type": "stream",
     "text": [
      "[nltk_data] Downloading package stopwords to /home/shilpi/nltk_data...\n",
      "[nltk_data]   Package stopwords is already up-to-date!\n"
     ]
    }
   ],
   "source": [
    "#cleaning the texts and stemming the texts\n",
    "import re\n",
    "import nltk\n",
    "nltk.download('stopwords')\n",
    "from nltk.corpus import stopwords\n",
    "from nltk.stem.porter import PorterStemmer"
   ]
  },
  {
   "cell_type": "code",
   "execution_count": 17,
   "metadata": {},
   "outputs": [],
   "source": [
    "from tqdm import tqdm"
   ]
  },
  {
   "cell_type": "code",
   "execution_count": 18,
   "metadata": {},
   "outputs": [
    {
     "data": {
      "text/plain": [
       "5000"
      ]
     },
     "execution_count": 18,
     "metadata": {},
     "output_type": "execute_result"
    }
   ],
   "source": [
    "data.shape[0]"
   ]
  },
  {
   "cell_type": "code",
   "execution_count": 102,
   "metadata": {},
   "outputs": [
    {
     "name": "stderr",
     "output_type": "stream",
     "text": [
      "100%|██████████| 5000/5000 [04:51<00:00, 17.17it/s]\n"
     ]
    }
   ],
   "source": [
    "corpus=[]\n",
    "for i in tqdm(range(0,data.shape[0])):\n",
    "    review = re.sub('[^a-zA-Z]', ' ', data['review'][i] )\n",
    "    review=review.lower()\n",
    "    review=review.split()\n",
    "    ps=PorterStemmer()\n",
    "    review=[ps.stem(word) for word in review if not word in set(stopwords.words('english'))]\n",
    "    review=' '.join(review)\n",
    "    corpus.append(review)"
   ]
  },
  {
   "cell_type": "code",
   "execution_count": 103,
   "metadata": {},
   "outputs": [
    {
     "data": {
      "text/plain": [
       "5000"
      ]
     },
     "execution_count": 103,
     "metadata": {},
     "output_type": "execute_result"
    }
   ],
   "source": [
    "nn=len(corpus)\n",
    "nn"
   ]
  },
  {
   "cell_type": "code",
   "execution_count": 115,
   "metadata": {},
   "outputs": [],
   "source": [
    "import pickle\n",
    "with open('corpusfile', 'wb') as fp:\n",
    "    pickle.dump(corpus, fp)"
   ]
  },
  {
   "cell_type": "code",
   "execution_count": 116,
   "metadata": {},
   "outputs": [],
   "source": [
    "with open ('corpusfile', 'rb') as fp:\n",
    "    loaded_corpus = pickle.load(fp)"
   ]
  },
  {
   "cell_type": "code",
   "execution_count": 117,
   "metadata": {},
   "outputs": [
    {
     "data": {
      "text/plain": [
       "list"
      ]
     },
     "execution_count": 117,
     "metadata": {},
     "output_type": "execute_result"
    }
   ],
   "source": [
    "type(loaded_corpus)"
   ]
  },
  {
   "cell_type": "code",
   "execution_count": 118,
   "metadata": {},
   "outputs": [],
   "source": [
    "# creating the Bag of words Model\n",
    "from sklearn.feature_extraction.text import CountVectorizer\n",
    "cv=CountVectorizer(max_features=1500)\n",
    "X=cv.fit_transform(loaded_corpus).toarray()\n",
    "y=data.iloc[:,1].values"
   ]
  },
  {
   "cell_type": "code",
   "execution_count": 119,
   "metadata": {},
   "outputs": [],
   "source": [
    "# Splitting the dataset into the Training set and Test set\n",
    "from sklearn.model_selection import train_test_split\n",
    "X_train, X_test, y_train, y_test = train_test_split(X, y, test_size = 0.20, random_state = 0)"
   ]
  },
  {
   "cell_type": "code",
   "execution_count": 120,
   "metadata": {},
   "outputs": [],
   "source": [
    "from sklearn.preprocessing import StandardScaler\n",
    "scaler = StandardScaler()\n",
    "# Feature Scaling\n",
    "X_train = scaler.fit_transform(X_train)\n",
    "X_test = scaler.transform(X_test)"
   ]
  },
  {
   "cell_type": "code",
   "execution_count": 121,
   "metadata": {},
   "outputs": [],
   "source": [
    "def convertReviewToArray(rev):\n",
    "    review = re.sub('[^a-zA-Z]', ' ', rev)\n",
    "    review=review.lower()\n",
    "    review=review.split()\n",
    "    review=[ps.stem(word) for word in review if not word in set(stopwords.words('english'))]\n",
    "    review=' '.join(review)\n",
    "    temp=corpus[0:nn]\n",
    "    temp.append(review)\n",
    "    cv=CountVectorizer(max_features=1500)\n",
    "    corp=cv.fit_transform(temp).toarray()\n",
    "    corp=scaler.transform(corp)\n",
    "    size=len(temp)\n",
    "    review=corp[size-1:size]\n",
    "    temp=temp[0:size-1]\n",
    "    return review"
   ]
  },
  {
   "cell_type": "code",
   "execution_count": 139,
   "metadata": {},
   "outputs": [],
   "source": [
    "res=convertReviewToArray(\"bad\")"
   ]
  },
  {
   "cell_type": "code",
   "execution_count": 140,
   "metadata": {},
   "outputs": [
    {
     "name": "stdout",
     "output_type": "stream",
     "text": [
      "['negative']\n"
     ]
    }
   ],
   "source": [
    "res=cksvm.predict(res)\n",
    "print(res)"
   ]
  },
  {
   "cell_type": "code",
   "execution_count": 141,
   "metadata": {},
   "outputs": [],
   "source": [
    "#make a list of accuracies to store all the accuracy for different algorithm\n",
    "accuracies={}\n",
    "precision={}\n",
    "recall={}\n",
    "f_score={}"
   ]
  },
  {
   "cell_type": "code",
   "execution_count": 142,
   "metadata": {},
   "outputs": [
    {
     "name": "stdout",
     "output_type": "stream",
     "text": [
      "Training Accuracy : 1.0\n",
      "Testing Accuracy : 0.826\n",
      "[[437  88]\n",
      " [ 86 389]]\n"
     ]
    }
   ],
   "source": [
    "#MODEL-1\n",
    "# Fitting Random Forest classifier with 100 trees to the Training set\n",
    "X_train1=X_train\n",
    "y_train1=y_train\n",
    "from sklearn.ensemble import RandomForestClassifier\n",
    "classifier = RandomForestClassifier(n_estimators = 100, criterion = 'entropy', random_state = 0)\n",
    "classifier.fit(X_train1, y_train1)\n",
    "\n",
    "X_test1=X_test\n",
    "y_pred1 = classifier.predict(X_test1)\n",
    "\n",
    "print(\"Training Accuracy :\", classifier.score(X_train1, y_train1))\n",
    "print(\"Testing Accuracy :\", classifier.score(X_test1, y_test))\n",
    "\n",
    "accuracies['Random Forest']=classifier.score(X_test1, y_test)\n",
    "\n",
    "# Making the Confusion Matrix\n",
    "from sklearn.metrics import confusion_matrix\n",
    "cm1 = confusion_matrix(y_test, y_pred1)\n",
    "print(cm1)"
   ]
  },
  {
   "cell_type": "code",
   "execution_count": 143,
   "metadata": {},
   "outputs": [
    {
     "name": "stdout",
     "output_type": "stream",
     "text": [
      "0.826\n",
      "0.8155136268343816\n",
      "0.8189473684210526\n",
      "0.8172268907563025\n"
     ]
    }
   ],
   "source": [
    "#TN FP\n",
    "#FN TP\n",
    "\n",
    "accuracy1=(cm1[0][0]+cm1[1][1])/(cm1[0][0]+cm1[0][1]+cm1[1][0]+cm1[1][1])\n",
    "print(accuracy1)\n",
    "\n",
    "precision1=(cm1[1][1])/(cm1[0][1]+cm1[1][1])\n",
    "precision['Random Forest']=precision1\n",
    "print(precision1)\n",
    "\n",
    "recall1=(cm1[1][1])/(cm1[1][0]+cm1[1][1])\n",
    "recall['Random Forest']=recall1\n",
    "print(recall1)\n",
    "\n",
    "f_score1=(2*precision1*recall1)/(precision1+recall1)\n",
    "f_score['Random Forest']=f_score1\n",
    "print(f_score1)"
   ]
  },
  {
   "cell_type": "code",
   "execution_count": 144,
   "metadata": {},
   "outputs": [
    {
     "name": "stdout",
     "output_type": "stream",
     "text": [
      "Training Accuracy : 1.0\n",
      "Testing Accuracy : 0.78\n",
      "[[414 111]\n",
      " [109 366]]\n"
     ]
    },
    {
     "name": "stderr",
     "output_type": "stream",
     "text": [
      "/home/shilpi/anaconda3/lib/python3.8/site-packages/sklearn/linear_model/_logistic.py:762: ConvergenceWarning: lbfgs failed to converge (status=1):\n",
      "STOP: TOTAL NO. of ITERATIONS REACHED LIMIT.\n",
      "\n",
      "Increase the number of iterations (max_iter) or scale the data as shown in:\n",
      "    https://scikit-learn.org/stable/modules/preprocessing.html\n",
      "Please also refer to the documentation for alternative solver options:\n",
      "    https://scikit-learn.org/stable/modules/linear_model.html#logistic-regression\n",
      "  n_iter_i = _check_optimize_result(\n"
     ]
    }
   ],
   "source": [
    "#Model-2\n",
    "#FITTING LOGISTIC REGRESSION CLASSIFIER TO OUR TRAINING SET\n",
    "X_train2=X_train\n",
    "y_train2=y_train\n",
    "X_test2=X_test\n",
    "\n",
    "# Training the Logistic Regression model on the Training set\n",
    "from sklearn.linear_model import LogisticRegression\n",
    "classifier_lr = LogisticRegression(random_state = 0)\n",
    "classifier_lr.fit(X_train2, y_train2)\n",
    "\n",
    "# Predicting the Test set results\n",
    "y_pred2 = classifier_lr.predict(X_test2)\n",
    "\n",
    "print(\"Training Accuracy :\", classifier_lr.score(X_train2, y_train2))\n",
    "print(\"Testing Accuracy :\", classifier_lr.score(X_test2, y_test))\n",
    "\n",
    "# Making the Confusion Matrix\n",
    "from sklearn.metrics import confusion_matrix\n",
    "cm2 = confusion_matrix(y_test, y_pred2)\n",
    "print(cm2)"
   ]
  },
  {
   "cell_type": "code",
   "execution_count": 145,
   "metadata": {},
   "outputs": [
    {
     "name": "stdout",
     "output_type": "stream",
     "text": [
      "0.78\n",
      "0.7672955974842768\n",
      "0.7705263157894737\n",
      "0.7689075630252101\n"
     ]
    }
   ],
   "source": [
    "#TN FP\n",
    "#FN TP\n",
    "\n",
    "accuracy2=(cm2[0][0]+cm2[1][1])/(cm2[0][0]+cm2[0][1]+cm2[1][0]+cm2[1][1])\n",
    "print(accuracy2)\n",
    "accuracies['Logistic Regression']=accuracy2\n",
    "\n",
    "precision2=(cm2[1][1])/(cm2[0][1]+cm2[1][1])\n",
    "print(precision2)\n",
    "precision['Logistic Regression']=precision2\n",
    "\n",
    "recall2=(cm2[1][1])/(cm2[1][0]+cm2[1][1])\n",
    "print(recall2)\n",
    "recall['Logistic Regression']=recall2\n",
    "\n",
    "f_score2=(2*precision2*recall2)/(precision2+recall2)\n",
    "print(f_score2)\n",
    "f_score['Logistic Regression']=f_score2"
   ]
  },
  {
   "cell_type": "code",
   "execution_count": 146,
   "metadata": {},
   "outputs": [
    {
     "name": "stderr",
     "output_type": "stream",
     "text": [
      "100%|██████████| 19/19 [05:51<00:00, 18.49s/it]\n"
     ]
    },
    {
     "data": {
      "image/png": "[encoded data removed]",
      "text/plain": [
       "<Figure size 432x288 with 1 Axes>"
      ]
     },
     "metadata": {},
     "output_type": "display_data"
    },
    {
     "name": "stdout",
     "output_type": "stream",
     "text": [
      "Training Accuracy : 0.67725\n",
      "Testing Accuracy : 0.558\n",
      "[[426  99]\n",
      " [343 132]]\n"
     ]
    }
   ],
   "source": [
    "#Model-3\n",
    "#FITTING K_NEAREST_NEIGHBORS MODEL TO OUR TRAINING SET\n",
    "X_train3=X_train\n",
    "y_train3=y_train\n",
    "X_test3=X_test\n",
    "\n",
    "from sklearn.neighbors import KNeighborsClassifier\n",
    "# try to find best k value\n",
    "scoreList = []\n",
    "for i in tqdm(range(1,20)):\n",
    "    knn3 = KNeighborsClassifier(n_neighbors = i)  # n_neighbors means k\n",
    "    knn3.fit(X_train3, y_train3)\n",
    "    scoreList.append(knn3.score(X_test3, y_test))\n",
    "    \n",
    "plt.plot(range(1,20), scoreList)\n",
    "plt.xticks(np.arange(1,20,1))\n",
    "plt.xlabel(\"K value\")\n",
    "plt.ylabel(\"Score\")\n",
    "plt.show()\n",
    "\n",
    "# Training the K-NN model on the Training set\n",
    "cknn = KNeighborsClassifier(n_neighbors = 5, metric = 'minkowski', p = 2)\n",
    "cknn.fit(X_train3, y_train3)\n",
    "\n",
    "# Predicting the Test set results\n",
    "y_pred3 = cknn.predict(X_test3)\n",
    "\n",
    "print(\"Training Accuracy :\", cknn.score(X_train3, y_train3))\n",
    "print(\"Testing Accuracy :\", cknn.score(X_test3, y_test))\n",
    "\n",
    "# Making the Confusion Matrix\n",
    "from sklearn.metrics import confusion_matrix\n",
    "cm3 = confusion_matrix(y_test, y_pred3)\n",
    "print(cm3)"
   ]
  },
  {
   "cell_type": "code",
   "execution_count": 147,
   "metadata": {},
   "outputs": [
    {
     "name": "stdout",
     "output_type": "stream",
     "text": [
      "0.558\n",
      "0.5714285714285714\n",
      "0.27789473684210525\n",
      "0.37393767705382436\n"
     ]
    }
   ],
   "source": [
    "accuracy3=(cm3[0][0]+cm3[1][1])/(cm3[0][0]+cm3[0][1]+cm3[1][0]+cm3[1][1])\n",
    "print(accuracy3)\n",
    "accuracies['k_nearest_neighbors']=accuracy3\n",
    "\n",
    "precision3=(cm3[1][1])/(cm3[0][1]+cm3[1][1])\n",
    "print(precision3)\n",
    "precision['k_nearest_neighbors']=precision3\n",
    "\n",
    "recall3=(cm3[1][1])/(cm3[1][0]+cm3[1][1])\n",
    "print(recall3)\n",
    "recall['k_nearest_neighbors']=recall3\n",
    "\n",
    "f_score3=(2*precision3*recall3)/(precision3+recall3)\n",
    "print(f_score3)\n",
    "f_score['k_nearest_neighbors']=f_score3"
   ]
  },
  {
   "cell_type": "code",
   "execution_count": 148,
   "metadata": {},
   "outputs": [
    {
     "name": "stdout",
     "output_type": "stream",
     "text": [
      "Training Accuracy : 1.0\n",
      "Testing Accuracy : 0.764\n",
      "[[408 117]\n",
      " [119 356]]\n"
     ]
    }
   ],
   "source": [
    "#Model-4\n",
    "#FITTING SUPPORT VECTOR MACHINE CLASSIFIER TO OUR TRAINING SET \n",
    "X_train4=X_train\n",
    "y_train4=y_train\n",
    "X_test4=X_test\n",
    "\n",
    "# Training the SVM model on the Training set\n",
    "from sklearn.svm import SVC\n",
    "csvm = SVC(kernel = 'linear', random_state = 0)\n",
    "csvm.fit(X_train4, y_train4)\n",
    "\n",
    "# Predicting the Test set results\n",
    "y_pred4 = csvm.predict(X_test4)\n",
    "\n",
    "print(\"Training Accuracy :\", csvm.score(X_train4, y_train4))\n",
    "print(\"Testing Accuracy :\", csvm.score(X_test4, y_test))\n",
    "\n",
    "# Making the Confusion Matrix\n",
    "from sklearn.metrics import confusion_matrix\n",
    "cm4 = confusion_matrix(y_test, y_pred4)\n",
    "print(cm4)"
   ]
  },
  {
   "cell_type": "code",
   "execution_count": 149,
   "metadata": {},
   "outputs": [
    {
     "name": "stdout",
     "output_type": "stream",
     "text": [
      "0.764\n",
      "0.7526427061310782\n",
      "0.7494736842105263\n",
      "0.751054852320675\n"
     ]
    }
   ],
   "source": [
    "accuracy4=(cm4[0][0]+cm4[1][1])/(cm4[0][0]+cm4[0][1]+cm4[1][0]+cm4[1][1])\n",
    "print(accuracy4)\n",
    "accuracies['SVM']=accuracy4\n",
    "\n",
    "precision4=(cm4[1][1])/(cm4[0][1]+cm4[1][1])\n",
    "print(precision4)\n",
    "precision['SVM']=precision4\n",
    "\n",
    "recall4=(cm4[1][1])/(cm4[1][0]+cm4[1][1])\n",
    "print(recall4)\n",
    "recall['SVM']=recall4\n",
    "\n",
    "f_score4=(2*precision4*recall4)/(precision4+recall4)\n",
    "print(f_score4)\n",
    "f_score['SVM']=f_score4"
   ]
  },
  {
   "cell_type": "code",
   "execution_count": 150,
   "metadata": {},
   "outputs": [
    {
     "name": "stdout",
     "output_type": "stream",
     "text": [
      "Training Accuracy : 0.977\n",
      "Testing Accuracy : 0.829\n",
      "[[419 106]\n",
      " [ 65 410]]\n"
     ]
    }
   ],
   "source": [
    "#Model-5\n",
    "#FITTING KERNEL SVM TO OUR TRAINING SET \n",
    "X_train5=X_train\n",
    "y_train5=y_train\n",
    "X_test5=X_test\n",
    "\n",
    "# Training the Kernel SVM model on the Training set\n",
    "from sklearn.svm import SVC\n",
    "cksvm = SVC(kernel = 'rbf', random_state = 0)\n",
    "cksvm.fit(X_train5, y_train5)\n",
    "\n",
    "# Predicting the Test set results\n",
    "y_pred5 = cksvm.predict(X_test5)\n",
    "\n",
    "print(\"Training Accuracy :\", cksvm.score(X_train5, y_train5))\n",
    "print(\"Testing Accuracy :\", cksvm.score(X_test5, y_test))\n",
    "\n",
    "# Making the Confusion Matrix\n",
    "from sklearn.metrics import confusion_matrix\n",
    "cm5 = confusion_matrix(y_test, y_pred5)\n",
    "print(cm5)"
   ]
  },
  {
   "cell_type": "code",
   "execution_count": 151,
   "metadata": {},
   "outputs": [
    {
     "name": "stdout",
     "output_type": "stream",
     "text": [
      "0.829\n",
      "0.7945736434108527\n",
      "0.8631578947368421\n",
      "0.8274470232088799\n"
     ]
    }
   ],
   "source": [
    "accuracy5=(cm5[0][0]+cm5[1][1])/(cm5[0][0]+cm5[0][1]+cm5[1][0]+cm5[1][1])\n",
    "print(accuracy5)\n",
    "accuracies['Kernel SVM']=accuracy5\n",
    "\n",
    "precision5=(cm5[1][1])/(cm5[0][1]+cm5[1][1])\n",
    "print(precision5)\n",
    "precision['Kernel SVM']=precision5\n",
    "\n",
    "recall5=(cm5[1][1])/(cm5[1][0]+cm5[1][1])\n",
    "print(recall5)\n",
    "recall['Kernel SVM']=recall5\n",
    "\n",
    "f_score5=(2*precision5*recall5)/(precision5+recall5)\n",
    "print(f_score5)\n",
    "f_score['Kernel SVM']=f_score5"
   ]
  },
  {
   "cell_type": "code",
   "execution_count": 152,
   "metadata": {},
   "outputs": [
    {
     "name": "stdout",
     "output_type": "stream",
     "text": [
      "Training Accuracy : 0.824\n",
      "Testing Accuracy : 0.769\n",
      "[[417 108]\n",
      " [123 352]]\n"
     ]
    }
   ],
   "source": [
    "#Model-6\n",
    "#FITTING NAIVE BAYES TO TRAINING SET \n",
    "\n",
    "X_train6=X_train\n",
    "y_train6=y_train\n",
    "X_test6=X_test\n",
    "\n",
    "# Training the Naive Bayes model on the Training set\n",
    "from sklearn.naive_bayes import GaussianNB\n",
    "cnb = GaussianNB()\n",
    "cnb.fit(X_train6, y_train6)\n",
    "\n",
    "# Predicting the Test set results\n",
    "y_pred6 = cnb.predict(X_test6)\n",
    "\n",
    "print(\"Training Accuracy :\", cnb.score(X_train6, y_train6))\n",
    "print(\"Testing Accuracy :\", cnb.score(X_test6, y_test))\n",
    "\n",
    "# Making the Confusion Matrix\n",
    "from sklearn.metrics import confusion_matrix\n",
    "cm6 = confusion_matrix(y_test, y_pred6)\n",
    "print(cm6)"
   ]
  },
  {
   "cell_type": "code",
   "execution_count": 153,
   "metadata": {},
   "outputs": [
    {
     "name": "stdout",
     "output_type": "stream",
     "text": [
      "0.769\n",
      "0.7652173913043478\n",
      "0.7410526315789474\n",
      "0.7529411764705883\n"
     ]
    }
   ],
   "source": [
    "accuracy6=(cm6[0][0]+cm6[1][1])/(cm6[0][0]+cm6[0][1]+cm6[1][0]+cm6[1][1])\n",
    "print(accuracy6)\n",
    "accuracies['Naive Bayes']=accuracy6\n",
    "\n",
    "precision6=(cm6[1][1])/(cm6[0][1]+cm6[1][1])\n",
    "print(precision6)\n",
    "precision['Naive Bayes']=precision6\n",
    "\n",
    "recall6=(cm6[1][1])/(cm6[1][0]+cm6[1][1])\n",
    "print(recall6)\n",
    "recall['Naive Bayes']=recall6\n",
    "\n",
    "f_score6=(2*precision6*recall6)/(precision6+recall6)\n",
    "print(f_score6)\n",
    "f_score['Naive Bayes']=f_score6"
   ]
  },
  {
   "cell_type": "code",
   "execution_count": 154,
   "metadata": {},
   "outputs": [
    {
     "name": "stdout",
     "output_type": "stream",
     "text": [
      "Training Accuracy : 1.0\n",
      "Testing Accuracy : 0.693\n",
      "[[368 157]\n",
      " [150 325]]\n"
     ]
    }
   ],
   "source": [
    "#Model-7\n",
    "#FITTING DECISION TREE CLASSIFIER \n",
    "X_train7=X_train\n",
    "y_train7=y_train\n",
    "X_test7=X_test\n",
    "\n",
    "# Training the Decision Tree Classification model on the Training set\n",
    "from sklearn.tree import DecisionTreeClassifier\n",
    "cdt = DecisionTreeClassifier(criterion = 'entropy', random_state = 0)\n",
    "cdt.fit(X_train7, y_train7)\n",
    "\n",
    "# Predicting the Test set results\n",
    "y_pred7 = cdt.predict(X_test7)\n",
    "\n",
    "print(\"Training Accuracy :\", cdt.score(X_train7, y_train7))\n",
    "print(\"Testing Accuracy :\", cdt.score(X_test7, y_test))\n",
    "\n",
    "# Making the Confusion Matrix\n",
    "from sklearn.metrics import confusion_matrix\n",
    "cm7 = confusion_matrix(y_test, y_pred7)\n",
    "print(cm7)"
   ]
  },
  {
   "cell_type": "code",
   "execution_count": 155,
   "metadata": {},
   "outputs": [
    {
     "name": "stdout",
     "output_type": "stream",
     "text": [
      "0.693\n",
      "0.6742738589211619\n",
      "0.6842105263157895\n",
      "0.6792058516196448\n"
     ]
    }
   ],
   "source": [
    "accuracy7=(cm7[0][0]+cm7[1][1])/(cm7[0][0]+cm7[0][1]+cm7[1][0]+cm7[1][1])\n",
    "print(accuracy7)\n",
    "accuracies['decision tree']=accuracy7\n",
    "\n",
    "precision7=(cm7[1][1])/(cm7[0][1]+cm7[1][1])\n",
    "print(precision7)\n",
    "precision['decision tree']=precision7\n",
    "\n",
    "recall7=(cm7[1][1])/(cm7[1][0]+cm7[1][1])\n",
    "print(recall7)\n",
    "recall['decision tree']=recall7\n",
    "\n",
    "f_score7=(2*precision7*recall7)/(precision7+recall7)\n",
    "print(f_score7)\n",
    "f_score['decision tree']=f_score7"
   ]
  },
  {
   "cell_type": "code",
   "execution_count": 156,
   "metadata": {},
   "outputs": [
    {
     "data": {
      "image/png": "[encoded data removed]",
      "text/plain": [
       "<Figure size 1152x432 with 1 Axes>"
      ]
     },
     "metadata": {},
     "output_type": "display_data"
    }
   ],
   "source": [
    "#Comparing models\n",
    "#comparing accuracy of different models\n",
    "colors = [\"purple\", \"green\", \"orange\", \"magenta\",\"#CFC60E\",\"#0FBBAE\",\"yellow\"]\n",
    "\n",
    "sns.set_style(\"whitegrid\")\n",
    "plt.figure(figsize=(16,6))\n",
    "plt.yticks(np.arange(0,100,10))\n",
    "plt.ylabel(\"Accuracy %\")\n",
    "plt.xlabel(\"Algorithms\")\n",
    "sns.barplot(x=list(accuracies.keys()), y=list(accuracies.values()), palette=colors)\n",
    "plt.show()"
   ]
  },
  {
   "cell_type": "code",
   "execution_count": 157,
   "metadata": {},
   "outputs": [
    {
     "data": {
      "image/png": "[encoded data removed]",
      "text/plain": [
       "<Figure size 1152x432 with 1 Axes>"
      ]
     },
     "metadata": {},
     "output_type": "display_data"
    }
   ],
   "source": [
    "#comparing precision of different models\n",
    "\n",
    "colors = [\"purple\", \"green\", \"orange\", \"magenta\",\"#CFC60E\",\"#0FBBAE\",\"yellow\"]\n",
    "\n",
    "sns.set_style(\"whitegrid\")\n",
    "plt.figure(figsize=(16,6))\n",
    "plt.yticks(np.arange(0,100,10))\n",
    "plt.ylabel(\"Precision %\")\n",
    "plt.xlabel(\"Algorithms\")\n",
    "sns.barplot(x=list(precision.keys()), y=list(precision.values()), palette=colors)\n",
    "plt.show()"
   ]
  },
  {
   "cell_type": "code",
   "execution_count": 158,
   "metadata": {},
   "outputs": [
    {
     "data": {
      "image/png": "[encoded data removed]",
      "text/plain": [
       "<Figure size 1152x432 with 1 Axes>"
      ]
     },
     "metadata": {},
     "output_type": "display_data"
    }
   ],
   "source": [
    "#comparing recall of different models\n",
    "colors = [\"purple\", \"green\", \"orange\", \"magenta\",\"#CFC60E\",\"#0FBBAE\",\"yellow\"]\n",
    "\n",
    "sns.set_style(\"whitegrid\")\n",
    "plt.figure(figsize=(16,6))\n",
    "plt.yticks(np.arange(0,100,10))\n",
    "plt.ylabel(\"Recall %\")\n",
    "plt.xlabel(\"Algorithms\")\n",
    "sns.barplot(x=list(recall.keys()), y=list(recall.values()), palette=colors)\n",
    "plt.show()"
   ]
  },
  {
   "cell_type": "code",
   "execution_count": 159,
   "metadata": {},
   "outputs": [
    {
     "data": {
      "image/png": "[encoded data removed]",
      "text/plain": [
       "<Figure size 1152x432 with 1 Axes>"
      ]
     },
     "metadata": {},
     "output_type": "display_data"
    }
   ],
   "source": [
    "#comparing f_score of different models\n",
    "colors = [\"purple\", \"green\", \"orange\", \"magenta\",\"#CFC60E\",\"#0FBBAE\",\"yellow\"]\n",
    "sns.set_style(\"whitegrid\")\n",
    "plt.figure(figsize=(16,6))\n",
    "plt.yticks(np.arange(0,100,10))\n",
    "plt.ylabel(\"f_score %\")\n",
    "plt.xlabel(\"Algorithms\")\n",
    "sns.barplot(x=list(f_score.keys()), y=list(f_score.values()), palette=colors)\n",
    "plt.show()"
   ]
  },
  {
   "cell_type": "code",
   "execution_count": 160,
   "metadata": {},
   "outputs": [
    {
     "name": "stdout",
     "output_type": "stream",
     "text": [
      "Random Forest\n",
      " [[437  88]\n",
      " [ 86 389]]\n",
      "Logistic Regression\n",
      " [[414 111]\n",
      " [109 366]]\n",
      "KNN\n",
      " [[426  99]\n",
      " [343 132]]\n",
      "SVM\n",
      " [[408 117]\n",
      " [119 356]]\n",
      "kSVM\n",
      " [[419 106]\n",
      " [ 65 410]]\n",
      "Naive Bayes [[417 108]\n",
      " [123 352]]\n",
      "Decision tree\n",
      " [[368 157]\n",
      " [150 325]]\n"
     ]
    }
   ],
   "source": [
    "#comparing confusion matrix of different models\n",
    "print(\"Random Forest\\n\",cm1)\n",
    "print(\"Logistic Regression\\n\",cm2)\n",
    "print(\"KNN\\n\",cm3)\n",
    "print(\"SVM\\n\",cm4)\n",
    "print(\"kSVM\\n\",cm5)\n",
    "print(\"Naive Bayes\",cm6)\n",
    "print(\"Decision tree\\n\",cm7)\n"
   ]
  },
  {
   "cell_type": "code",
   "execution_count": 161,
   "metadata": {},
   "outputs": [],
   "source": [
    "#RESULT\n",
    "#Kernel SVM rocks in terms of accuracy - 0.829."
   ]
  },
  {
   "cell_type": "code",
   "execution_count": 162,
   "metadata": {},
   "outputs": [],
   "source": [
    "def predict_review(rev):\n",
    "    arr=convertReviewToArray(rev)\n",
    "    pred = cksvm.predict(arr)\n",
    "    return pred"
   ]
  },
  {
   "cell_type": "code",
   "execution_count": 163,
   "metadata": {},
   "outputs": [
    {
     "name": "stdout",
     "output_type": "stream",
     "text": [
      "['positive']\n"
     ]
    }
   ],
   "source": [
    "res=predict_review(\"good\")\n",
    "print(res)"
   ]
  },
  {
   "cell_type": "code",
   "execution_count": 164,
   "metadata": {},
   "outputs": [
    {
     "name": "stdout",
     "output_type": "stream",
     "text": [
      "['negative']\n"
     ]
    }
   ],
   "source": [
    "res=predict_review(\"bad\")\n",
    "print(res)"
   ]
  },
  {
   "cell_type": "code",
   "execution_count": 166,
   "metadata": {},
   "outputs": [
    {
     "data": {
      "text/plain": [
       "True"
      ]
     },
     "execution_count": 166,
     "metadata": {},
     "output_type": "execute_result"
    }
   ],
   "source": [
    "(res[0]==\"negative\")"
   ]
  },
  {
   "cell_type": "code",
   "execution_count": 169,
   "metadata": {},
   "outputs": [
    {
     "name": "stdout",
     "output_type": "stream",
     "text": [
      "['negative']\n"
     ]
    }
   ],
   "source": [
    "if(res=='negative'):\n",
    "    print(res)"
   ]
  },
  {
   "cell_type": "code",
   "execution_count": null,
   "metadata": {},
   "outputs": [],
   "source": []
  }
 ],
 "metadata": {
  "kernelspec": {
   "display_name": "Python 3",
   "language": "python",
   "name": "python3"
  },
  "language_info": {
   "codemirror_mode": {
    "name": "ipython",
    "version": 3
   },
   "file_extension": ".py",
   "mimetype": "text/x-python",
   "name": "python",
   "nbconvert_exporter": "python",
   "pygments_lexer": "ipython3",
   "version": "3.8.5"
  }
 },
 "nbformat": 4,
 "nbformat_minor": 4
}
